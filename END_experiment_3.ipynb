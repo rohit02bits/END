{
  "nbformat": 4,
  "nbformat_minor": 0,
  "metadata": {
    "colab": {
      "name": "Copy of end_experiment_3.ipynb",
      "provenance": [],
      "collapsed_sections": [],
      "include_colab_link": true
    },
    "kernelspec": {
      "name": "python3",
      "display_name": "Python 3"
    }
  },
  "cells": [
    {
      "cell_type": "markdown",
      "metadata": {
        "id": "view-in-github",
        "colab_type": "text"
      },
      "source": [
        "<a href=\"https://colab.research.google.com/github/rohit02bits/END/blob/main/END_experiment_3.ipynb\" target=\"_parent\"><img src=\"https://colab.research.google.com/assets/colab-badge.svg\" alt=\"Open In Colab\"/></a>"
      ]
    },
    {
      "cell_type": "markdown",
      "metadata": {
        "id": "JbkZeSMtJ4sT"
      },
      "source": [
        "Write a function using only list filter lambda that can tell whether a number is a Fibonacci number or not. You can use a pre-calculated list/dict to store fab numbers till 10000"
      ]
    },
    {
      "cell_type": "code",
      "metadata": {
        "id": "kR34MxF4CuN-"
      },
      "source": [
        "fibonacci = [0, 1]\n",
        "for i in range (2, 10000):\n",
        "  fibonacci.append (fibonacci[i - 1] + fibonacci[i - 2])"
      ],
      "execution_count": null,
      "outputs": []
    },
    {
      "cell_type": "code",
      "metadata": {
        "id": "-xEQCrFHIKjr"
      },
      "source": [
        "check_fib = lambda x : True if x in fibonacci else False"
      ],
      "execution_count": null,
      "outputs": []
    },
    {
      "cell_type": "code",
      "metadata": {
        "id": "wBnMkAIaJkDE",
        "outputId": "661fdcb4-f01d-4fa4-9b41-1f152be13318",
        "colab": {
          "base_uri": "https://localhost:8080/"
        }
      },
      "source": [
        "check_fib (34)"
      ],
      "execution_count": null,
      "outputs": [
        {
          "output_type": "execute_result",
          "data": {
            "text/plain": [
              "True"
            ]
          },
          "metadata": {
            "tags": []
          },
          "execution_count": 11
        }
      ]
    },
    {
      "cell_type": "markdown",
      "metadata": {
        "id": "wSm8zQVdJ-hR"
      },
      "source": [
        " Using list comprehension (and zip/lambda/etc if required) write five different expressions that:\n",
        "\n",
        "    add 2 iterables a and b such that a is even and b is odd\n",
        "    strips every vowel from a string provided (tsai>>t s)\n",
        "    acts like a ReLU function for a 1D array\n",
        "    acts like a sigmoid function for a 1D array\n",
        "    takes a small character string and shifts all characters by 5 (handle boundary conditions) tsai>>yxfn\n",
        "\n"
      ]
    },
    {
      "cell_type": "code",
      "metadata": {
        "id": "jS2BPm3tJnPs"
      },
      "source": [
        "import numpy as np\n",
        "add_it = lambda a, b: a + b\n",
        "strip_vowel = lambda string: ''.join ([char for char in string if char not in 'aeiou'])\n",
        "relu = lambda arr: [0 if num < 0 else num for num in arr]\n",
        "sigmoid = lambda arr: [1/(1 + np.exp(-x)) for x in arr]\n",
        "shift = lambda string: \"\".join ([chr(ord(char) + 5) if (ord(char) < ord('z') - 5 and ord(char) >= ord('a')) else 'z' for char in string])"
      ],
      "execution_count": null,
      "outputs": []
    },
    {
      "cell_type": "code",
      "metadata": {
        "id": "l-2uGYU-LSeJ",
        "outputId": "20005357-e89a-4fd6-e14f-805ec9257bb4",
        "colab": {
          "base_uri": "https://localhost:8080/"
        }
      },
      "source": [
        "print (strip_vowel ('tsai'))\n",
        "print (relu ([0, 9, 4, -2, -1, 4, -2]))\n",
        "print (sigmoid ([0, 9, 4, -2, -1, 4, -2]))\n",
        "print (shift ('tyai'))"
      ],
      "execution_count": null,
      "outputs": [
        {
          "output_type": "stream",
          "text": [
            "ts\n",
            "[0, 9, 4, 0, 0, 4, 0]\n",
            "[0.5, 0.9998766054240137, 0.9820137900379085, 0.11920292202211755, 0.2689414213699951, 0.9820137900379085, 0.11920292202211755]\n",
            "yzfn\n"
          ],
          "name": "stdout"
        }
      ]
    },
    {
      "cell_type": "markdown",
      "metadata": {
        "id": "-Im3diPqPOnM"
      },
      "source": [
        "A list comprehension expression that takes a ~200 word paragraph (write your own paragraph to check), and checks whether it has any of the swear words mentioned in https://github.com/RobertJGabriel/Google-profanity-words/blob/master/list.txt\n"
      ]
    },
    {
      "cell_type": "code",
      "metadata": {
        "id": "0PWUbN8nLczV",
        "outputId": "d3aaad7d-5edd-4f4a-d3d2-7db5788bb94d",
        "colab": {
          "base_uri": "https://localhost:8080/"
        }
      },
      "source": [
        "import requests\n",
        "swear_words = requests.get ('https://raw.githubusercontent.com/RobertJGabriel/Google-profanity-words/master/list.txt').content.decode ().split ('\\n')\n",
        "print (swear_words[:10])"
      ],
      "execution_count": null,
      "outputs": [
        {
          "output_type": "stream",
          "text": [
            "['4r5e', '5h1t', '5hit', 'a55', 'anal', 'anus', 'ar5e', 'arrse', 'arse', 'ass']\n"
          ],
          "name": "stdout"
        }
      ]
    },
    {
      "cell_type": "code",
      "metadata": {
        "id": "kuH5YyCuZVNW",
        "outputId": "0f1b3e30-58c1-4f84-fafe-004f0e1cace8",
        "colab": {
          "base_uri": "https://localhost:8080/"
        }
      },
      "source": [
        "two_hundred_word_para = '''\n",
        "26 English Swear Words That You Thought Were Harmless\n",
        "\n",
        " \n",
        "American Swear Words (US)\n",
        "\n",
        "The following are commonly used curse words in American English that are understood and used globally. It’s likely where you should start, to get the most bang for your limited time.\n",
        "\n",
        " \n",
        "Fuck\n",
        "\n",
        "The word f-u-c-k is one of the most widely recognized swear words in the English language. The literal f-word is a shortened version of: ‘Fornication Under the Consent of the King.’ Like most swear words, it did originate from a sexual reference, which is still how it’s used today.\n",
        "\n",
        " \n",
        "2. F*ck you\n",
        "\n",
        "Adding the word ‘you’ means you’re directing the offense onto someone else. It’s often used as a joke or when you’re angry at someone else.\n",
        "\n",
        " \n",
        "3. Shit\n",
        "\n",
        "Another meaning for shit is poo (#2), but it’s often used internally when something unexpected comes up in your life. An example is if you forgot that you have a project that’s due this week, you’ll say ‘Shit! I totally forgot about that.’\n",
        "\n",
        " \n",
        "4. Piss off\n",
        "\n",
        "If you want someone to step away from your personal space, you can simply tell them to piss off.\n",
        "\n",
        " \n",
        "5. Dick head\n",
        "\n",
        "You can visually imagine this swear word without too much effort I’m sure. It’s a commonly used name-call that is used to describe someone who’s being unfair or unjust, but it can also be with friends as a joke.\n",
        "\n",
        " \n",
        "6. Asshole\n",
        "\n",
        "This is one of those curse words that literally describes a part of our body (in the buttocks), but is also used as a swear word.\n",
        "\n",
        " \n",
        "7. Son of a bitch\n",
        "\n",
        "A versatile word that can be used internally like the word ‘damn’ or ‘shit’ but can also be used to describe someone who tossed one over you.\n",
        "\n",
        " \n",
        "8. Bastard\n",
        "\n",
        "The literal translation for a bastard is an illegitimate child or mongrel. It’s used as a noun to describe someone who gave you an unpleasant experience. For example, if someone runs into you on the subway and you end up falling, calling them a bastard may be appropriate.\n",
        "9. Bitch\n",
        "\n",
        "A common word that’s not only used globally but from both males and females. According to this study, the word ‘bitch’ was used in 4.5 million interactions on Facebook, making it the top 5 most common swear word in the English language online.\n",
        "\n",
        " \n",
        "10. Damn\n",
        "\n",
        "This is not the harshest swear word used in America and one that’s said to yourself, not to harm someone else.\n",
        "\n",
        "According to this survey, it’s most commonly used in the lower east side of the United States.\n",
        "\n",
        " \n",
        "11. C*nt\n",
        "\n",
        "While this word is used in Britain and elsewhere, it’s much harsher in the United States. Be careful using this, especially around women, as you may be about to enter a physical interaction quickly after.\n",
        "'''\n",
        "two_hundred_word_para = two_hundred_word_para.replace ('\\n', '').lower ().split (' ')\n",
        "print (len (two_hundred_word_para))"
      ],
      "execution_count": null,
      "outputs": [
        {
          "output_type": "stream",
          "text": [
            "449\n"
          ],
          "name": "stdout"
        }
      ]
    },
    {
      "cell_type": "code",
      "metadata": {
        "id": "zcI95Q3taoHL",
        "outputId": "67fe8f0c-6758-496a-fdb6-ba69b41a7f86",
        "colab": {
          "base_uri": "https://localhost:8080/"
        }
      },
      "source": [
        "index = []\n",
        "[index.append (word) for word in two_hundred_word_para if word in swear_words]\n",
        "print (index)"
      ],
      "execution_count": null,
      "outputs": [
        {
          "output_type": "stream",
          "text": [
            "['shit', 'piss', 'piss', 'dick', 'bastard', 'bastard']\n"
          ],
          "name": "stdout"
        }
      ]
    },
    {
      "cell_type": "markdown",
      "metadata": {
        "id": "Vw4DVAeQcXBI"
      },
      "source": [
        " Using reduce functions:\n",
        "\n",
        "    add only even numbers in a list\n",
        "    find the biggest character in a string (printable ascii characters)\n",
        "    adds every 3rd number in a list\n",
        "\n"
      ]
    },
    {
      "cell_type": "code",
      "metadata": {
        "id": "-Hg5TPuEa3t5",
        "outputId": "acdf7353-b53e-4b11-e9b1-6fc084c31955",
        "colab": {
          "base_uri": "https://localhost:8080/"
        }
      },
      "source": [
        "from functools import reduce\n",
        "print (reduce (lambda x, y: x + y if (x % 2 == 0 and y % 2 == 0) else x if x % 2 == 0 else y if y % 2 == 0 else 0, [1, 2, 3, 4, 5, 6]))\n",
        "print (reduce (lambda a, b: a if a > b else b, 'askjdjfg'))\n",
        "print (reduce (lambda x, y: x + y[1] if (y[0] + 1) % 3 == 0 else 0 if type (x) != type (1) else x, enumerate ([1, 2, 3, 4, 5, 6])))"
      ],
      "execution_count": null,
      "outputs": [
        {
          "output_type": "stream",
          "text": [
            "12\n",
            "s\n",
            "9\n"
          ],
          "name": "stdout"
        }
      ]
    },
    {
      "cell_type": "markdown",
      "metadata": {
        "id": "UeBitqhWseze"
      },
      "source": [
        "Using randint, random.choice and list comprehensions, write an expression that generates 15 random KADDAADDDD number plates, where KA is fixed, D stands for a digit, and A stands for Capital alphabets. 10<<DD<<99 & 1000<<DDDD<<9999"
      ]
    },
    {
      "cell_type": "code",
      "metadata": {
        "id": "c0SA158-pBZp",
        "outputId": "64042c4d-7a12-4887-ac32-404426cf8897",
        "colab": {
          "base_uri": "https://localhost:8080/"
        }
      },
      "source": [
        "from random import randint, choice\n",
        "alphabets = 'ABCDEFGHIJKLMNOPQRSTUVWXYZ'\n",
        "[f\"KA{randint (10,99)}{choice (alphabets)}{choice (alphabets)}{randint (1000, 9999)}\" for i in range (15)]"
      ],
      "execution_count": null,
      "outputs": [
        {
          "output_type": "execute_result",
          "data": {
            "text/plain": [
              "['KA51GW3437',\n",
              " 'KA58QU9934',\n",
              " 'KA22JH2930',\n",
              " 'KA33EP7427',\n",
              " 'KA16LJ5895',\n",
              " 'KA44OK6907',\n",
              " 'KA26KY1422',\n",
              " 'KA50LT1959',\n",
              " 'KA73GA6235',\n",
              " 'KA78WQ1533',\n",
              " 'KA17JZ3771',\n",
              " 'KA47MY5988',\n",
              " 'KA45XL5976',\n",
              " 'KA45KH8147',\n",
              " 'KA44MN8922']"
            ]
          },
          "metadata": {
            "tags": []
          },
          "execution_count": 18
        }
      ]
    },
    {
      "cell_type": "code",
      "metadata": {
        "id": "_F2hb1YblJ8e",
        "outputId": "2452a327-bd7e-4817-e029-fa016df511a8",
        "colab": {
          "base_uri": "https://localhost:8080/"
        }
      },
      "source": [
        "states = ['KA', 'DL']\n",
        "start = 1234\n",
        "end = 5675\n",
        "[f\"{choice (states)}{randint (10,99)}{choice (alphabets)}{choice (alphabets)}{randint (start, end)}\" for i in range (15)]"
      ],
      "execution_count": null,
      "outputs": [
        {
          "output_type": "execute_result",
          "data": {
            "text/plain": [
              "['DL78QA3498',\n",
              " 'KA99AY5402',\n",
              " 'KA46CP5048',\n",
              " 'KA66SV5263',\n",
              " 'KA68XV4485',\n",
              " 'DL58XY5594',\n",
              " 'DL83SF4985',\n",
              " 'DL69LO3313',\n",
              " 'KA64XY3415',\n",
              " 'DL83HE2615',\n",
              " 'DL75MD2374',\n",
              " 'DL50XG3856',\n",
              " 'DL47NG2404',\n",
              " 'DL48QJ4225',\n",
              " 'KA36VK2256']"
            ]
          },
          "metadata": {
            "tags": []
          },
          "execution_count": 19
        }
      ]
    }
  ]
}