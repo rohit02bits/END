{
  "nbformat": 4,
  "nbformat_minor": 0,
  "metadata": {
    "colab": {
      "name": "POS Tagging based on Heuristics.ipynb",
      "provenance": [],
      "collapsed_sections": [],
      "include_colab_link": true
    },
    "kernelspec": {
      "name": "python3",
      "display_name": "Python 3"
    }
  },
  "cells": [
    {
      "cell_type": "markdown",
      "metadata": {
        "id": "view-in-github",
        "colab_type": "text"
      },
      "source": [
        "<a href=\"https://colab.research.google.com/github/rohit02bits/END/blob/main/POS_Tagging_based_on_Heuristics.ipynb\" target=\"_parent\"><img src=\"https://colab.research.google.com/assets/colab-badge.svg\" alt=\"Open In Colab\"/></a>"
      ]
    },
    {
      "cell_type": "markdown",
      "metadata": {
        "id": "mM0Ka5OWjTtn"
      },
      "source": [
        "##Import necessary Libraries\n"
      ]
    },
    {
      "cell_type": "code",
      "metadata": {
        "id": "9lda3liyPvQM",
        "outputId": "e170d826-0503-4f7f-ea47-3c16e9f9d9a3",
        "colab": {
          "base_uri": "https://localhost:8080/",
          "height": 52
        }
      },
      "source": [
        "!pip install nltk"
      ],
      "execution_count": 6,
      "outputs": [
        {
          "output_type": "stream",
          "text": [
            "Requirement already satisfied: nltk in /usr/local/lib/python3.6/dist-packages (3.2.5)\n",
            "Requirement already satisfied: six in /usr/local/lib/python3.6/dist-packages (from nltk) (1.15.0)\n"
          ],
          "name": "stdout"
        }
      ]
    },
    {
      "cell_type": "code",
      "metadata": {
        "id": "HUkH-XafjF18",
        "cellView": "both",
        "outputId": "1ced3974-3a01-4ebd-bdd6-c9a191e381fb",
        "colab": {
          "base_uri": "https://localhost:8080/",
          "height": 138
        }
      },
      "source": [
        "import nltk\n",
        "from nltk.tokenize import word_tokenize\n",
        "from nltk.tag import pos_tag\n",
        "from nltk.chunk import ne_chunk\n",
        "nltk.download('punkt')\n",
        "nltk.download('averaged_perceptron_tagger')"
      ],
      "execution_count": 7,
      "outputs": [
        {
          "output_type": "stream",
          "text": [
            "[nltk_data] Downloading package punkt to /root/nltk_data...\n",
            "[nltk_data]   Package punkt is already up-to-date!\n",
            "[nltk_data] Downloading package averaged_perceptron_tagger to\n",
            "[nltk_data]     /root/nltk_data...\n",
            "[nltk_data]   Package averaged_perceptron_tagger is already up-to-\n",
            "[nltk_data]       date!\n"
          ],
          "name": "stdout"
        },
        {
          "output_type": "execute_result",
          "data": {
            "text/plain": [
              "True"
            ]
          },
          "metadata": {
            "tags": []
          },
          "execution_count": 7
        }
      ]
    },
    {
      "cell_type": "markdown",
      "metadata": {
        "id": "CnfJWQfEjn89"
      },
      "source": [
        "## A sentence under consideration for Information Extraction (NER)"
      ]
    },
    {
      "cell_type": "code",
      "metadata": {
        "id": "1nOjV-QMjlBF"
      },
      "source": [
        "sentence = 'Virat Kohli is an Indian cricketer who currently captains the India national team. A right-handed top-order batsman, Kohli is regarded as one of the best batsmen in the world'"
      ],
      "execution_count": 2,
      "outputs": []
    },
    {
      "cell_type": "markdown",
      "metadata": {
        "id": "wwc64Wajjv95"
      },
      "source": [
        "## Apply word tokenization and part-of-speech tagging to the sentence"
      ]
    },
    {
      "cell_type": "code",
      "metadata": {
        "id": "rrJPkc2MjtwW"
      },
      "source": [
        "def preprocess(sent):\n",
        "  # TOKENIZE THE SENTENCE\n",
        "    sent =  word_tokenize(sentence)\n",
        "  # GET POS TAG OF THE SENTENCE\n",
        "    sent = pos_tag(sent)\n",
        "    return sent"
      ],
      "execution_count": 10,
      "outputs": []
    },
    {
      "cell_type": "code",
      "metadata": {
        "id": "xKv51GotjyZU",
        "outputId": "9b8bacd7-9984-4b19-ccba-74524038b17c",
        "colab": {
          "base_uri": "https://localhost:8080/",
          "height": 553
        }
      },
      "source": [
        "sent = preprocess(sentence)\n",
        "sent"
      ],
      "execution_count": 11,
      "outputs": [
        {
          "output_type": "execute_result",
          "data": {
            "text/plain": [
              "[('Virat', 'NNP'),\n",
              " ('Kohli', 'NNP'),\n",
              " ('is', 'VBZ'),\n",
              " ('an', 'DT'),\n",
              " ('Indian', 'JJ'),\n",
              " ('cricketer', 'NN'),\n",
              " ('who', 'WP'),\n",
              " ('currently', 'RB'),\n",
              " ('captains', 'VBZ'),\n",
              " ('the', 'DT'),\n",
              " ('India', 'NNP'),\n",
              " ('national', 'JJ'),\n",
              " ('team', 'NN'),\n",
              " ('.', '.'),\n",
              " ('A', 'DT'),\n",
              " ('right-handed', 'JJ'),\n",
              " ('top-order', 'NN'),\n",
              " ('batsman', 'NN'),\n",
              " (',', ','),\n",
              " ('Kohli', 'NNP'),\n",
              " ('is', 'VBZ'),\n",
              " ('regarded', 'VBN'),\n",
              " ('as', 'IN'),\n",
              " ('one', 'CD'),\n",
              " ('of', 'IN'),\n",
              " ('the', 'DT'),\n",
              " ('best', 'JJS'),\n",
              " ('batsmen', 'NNS'),\n",
              " ('in', 'IN'),\n",
              " ('the', 'DT'),\n",
              " ('world', 'NN')]"
            ]
          },
          "metadata": {
            "tags": []
          },
          "execution_count": 11
        }
      ]
    },
    {
      "cell_type": "markdown",
      "metadata": {
        "id": "5ZfnCIBOlP32"
      },
      "source": [
        "## Plot a Parse Tree"
      ]
    },
    {
      "cell_type": "code",
      "metadata": {
        "id": "3SFMBOJhj0kD",
        "outputId": "f22ca62e-39b7-4250-fc41-11f7dd7f9cc6",
        "colab": {
          "base_uri": "https://localhost:8080/",
          "height": 466
        }
      },
      "source": [
        "pattern = 'NP: {<DT>?<JJ>*<NN>}'\n",
        "# Regex Parse using the pattern\n",
        "NPChunker =  nltk.RegexpParser(pattern)\n",
        "result = NPChunker.parse(sent)\n",
        "print (result)"
      ],
      "execution_count": 13,
      "outputs": [
        {
          "output_type": "stream",
          "text": [
            "(S\n",
            "  Virat/NNP\n",
            "  Kohli/NNP\n",
            "  is/VBZ\n",
            "  (NP an/DT Indian/JJ cricketer/NN)\n",
            "  who/WP\n",
            "  currently/RB\n",
            "  captains/VBZ\n",
            "  the/DT\n",
            "  India/NNP\n",
            "  (NP national/JJ team/NN)\n",
            "  ./.\n",
            "  (NP A/DT right-handed/JJ top-order/NN)\n",
            "  (NP batsman/NN)\n",
            "  ,/,\n",
            "  Kohli/NNP\n",
            "  is/VBZ\n",
            "  regarded/VBN\n",
            "  as/IN\n",
            "  one/CD\n",
            "  of/IN\n",
            "  the/DT\n",
            "  best/JJS\n",
            "  batsmen/NNS\n",
            "  in/IN\n",
            "  (NP the/DT world/NN))\n"
          ],
          "name": "stdout"
        }
      ]
    },
    {
      "cell_type": "markdown",
      "metadata": {
        "id": "mzfWmM0s3qLQ"
      },
      "source": [
        "## POS Tags"
      ]
    },
    {
      "cell_type": "code",
      "metadata": {
        "id": "6lUv0-IX0V-v",
        "outputId": "6cd4e536-3ae8-44d2-aef2-20a5e74ce7ec",
        "colab": {
          "base_uri": "https://localhost:8080/",
          "height": 553
        }
      },
      "source": [
        "from nltk.chunk import conlltags2tree, tree2conlltags\n",
        "from pprint import pprint\n",
        "iob_tagged = tree2conlltags(sent)\n",
        "pprint(iob_tagged)"
      ],
      "execution_count": 15,
      "outputs": [
        {
          "output_type": "stream",
          "text": [
            "[('Virat', 'NNP', 'O'),\n",
            " ('Kohli', 'NNP', 'O'),\n",
            " ('is', 'VBZ', 'O'),\n",
            " ('an', 'DT', 'O'),\n",
            " ('Indian', 'JJ', 'O'),\n",
            " ('cricketer', 'NN', 'O'),\n",
            " ('who', 'WP', 'O'),\n",
            " ('currently', 'RB', 'O'),\n",
            " ('captains', 'VBZ', 'O'),\n",
            " ('the', 'DT', 'O'),\n",
            " ('India', 'NNP', 'O'),\n",
            " ('national', 'JJ', 'O'),\n",
            " ('team', 'NN', 'O'),\n",
            " ('.', '.', 'O'),\n",
            " ('A', 'DT', 'O'),\n",
            " ('right-handed', 'JJ', 'O'),\n",
            " ('top-order', 'NN', 'O'),\n",
            " ('batsman', 'NN', 'O'),\n",
            " (',', ',', 'O'),\n",
            " ('Kohli', 'NNP', 'O'),\n",
            " ('is', 'VBZ', 'O'),\n",
            " ('regarded', 'VBN', 'O'),\n",
            " ('as', 'IN', 'O'),\n",
            " ('one', 'CD', 'O'),\n",
            " ('of', 'IN', 'O'),\n",
            " ('the', 'DT', 'O'),\n",
            " ('best', 'JJS', 'O'),\n",
            " ('batsmen', 'NNS', 'O'),\n",
            " ('in', 'IN', 'O'),\n",
            " ('the', 'DT', 'O'),\n",
            " ('world', 'NN', 'O')]\n"
          ],
          "name": "stdout"
        }
      ]
    },
    {
      "cell_type": "markdown",
      "metadata": {
        "id": "GsWTk0dX4DN8"
      },
      "source": [
        "**This is how Information is extracted using heuristics based techniques. Try using another pattern.**"
      ]
    },
    {
      "cell_type": "code",
      "metadata": {
        "id": "hGPurTlb3tWd"
      },
      "source": [
        ""
      ],
      "execution_count": null,
      "outputs": []
    }
  ]
}